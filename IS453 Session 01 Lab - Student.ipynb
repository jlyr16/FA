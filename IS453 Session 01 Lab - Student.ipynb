{
  "cells": [
    {
      "cell_type": "markdown",
      "metadata": {},
      "source": [
        "## IS453 Financial Analytics\n",
        "## Week 01 - Time Series Data\n",
        "\n",
        "### Read stock prices as a pandas dataframe"
      ]
    },
    {
      "cell_type": "markdown",
      "metadata": {},
      "source": [
        "**API to read remote FINANCE data**<BR>\n",
        "https://pypi.org/project/yfinance/"
      ]
    },
    {
      "cell_type": "code",
      "execution_count": null,
      "metadata": {
        "execution": {
          "iopub.execute_input": "2023-08-15T09:48:43.600Z",
          "iopub.status.busy": "2023-08-15T09:48:43.530Z",
          "iopub.status.idle": "2023-08-15T09:48:43.764Z",
          "shell.execute_reply": "2023-08-15T09:48:43.435Z"
        }
      },
      "outputs": [],
      "source": [
        "# uncomment below to install yfinance\n",
        "# !pip install yfinance"
      ]
    },
    {
      "cell_type": "code",
      "execution_count": null,
      "metadata": {
        "execution": {
          "iopub.execute_input": "2023-08-15T09:48:43.839Z",
          "iopub.status.busy": "2023-08-15T09:48:43.810Z",
          "iopub.status.idle": "2023-08-15T09:48:46.178Z",
          "shell.execute_reply": "2023-08-15T09:48:46.317Z"
        }
      },
      "outputs": [],
      "source": [
        "import os\n",
        "# suppress numpy warning about Intel processor suppport\n",
        "os.environ['MKL_SERVICE_FORCE_INTEL'] = '1'"
      ]
    },
    {
      "cell_type": "code",
      "execution_count": null,
      "metadata": {},
      "outputs": [],
      "source": [
        "import pandas as pd\n",
        "import numpy as np\n",
        "import matplotlib.pyplot as plt\n",
        "import yfinance as yf"
      ]
    },
    {
      "cell_type": "code",
      "execution_count": null,
      "metadata": {
        "execution": {
          "iopub.execute_input": "2023-08-15T09:48:46.262Z",
          "iopub.status.busy": "2023-08-15T09:48:46.225Z",
          "iopub.status.idle": "2023-08-15T09:48:46.645Z",
          "shell.execute_reply": "2023-08-15T09:48:50.131Z"
        }
      },
      "outputs": [],
      "source": [
        "# specify the symbol to read\n",
        "tickers = ['AAPL']\n",
        "\n",
        "#specify the time period\n",
        "start_date = '2021-01-01'\n",
        "end_date = '2022-01-01'\n",
        "\n",
        "#download the stock price data\n",
        "stocks_df = yf.download(tickers, start= start_date, end= end_date)\n"
      ]
    },
    {
      "cell_type": "markdown",
      "metadata": {
        "nteract": {
          "transient": {
            "deleting": false
          }
        }
      },
      "source": [
        "### Part 1 - explore basic dataframe methods\n"
      ]
    },
    {
      "cell_type": "code",
      "execution_count": null,
      "metadata": {
        "execution": {
          "iopub.execute_input": "2023-08-15T09:48:46.752Z",
          "iopub.status.busy": "2023-08-15T09:48:46.703Z",
          "iopub.status.idle": "2023-08-15T09:48:46.825Z",
          "shell.execute_reply": "2023-08-15T09:48:50.147Z"
        }
      },
      "outputs": [],
      "source": [
        "# look at the data structure\n",
        "stocks_df.head()"
      ]
    },
    {
      "cell_type": "markdown",
      "metadata": {},
      "source": [
        "**Note:**\n",
        "\n",
        "We specified the end date for retreiving data as '2022-01-01'<BR>\n",
        "Note that the end date for yfinance is exclusive. <BR>\n",
        "If we specified it as '2022-12-31' we would have only retreived data up through 30 December."
      ]
    },
    {
      "cell_type": "code",
      "execution_count": null,
      "metadata": {},
      "outputs": [],
      "source": [
        "# check the last rows to ensure data covers entire year \n",
        "stocks_df.tail(2)"
      ]
    },
    {
      "cell_type": "code",
      "execution_count": null,
      "metadata": {
        "execution": {
          "iopub.execute_input": "2023-08-15T09:48:46.900Z",
          "iopub.status.busy": "2023-08-15T09:48:46.871Z",
          "iopub.status.idle": "2023-08-15T09:48:46.985Z",
          "shell.execute_reply": "2023-08-15T09:48:50.165Z"
        }
      },
      "outputs": [],
      "source": [
        "#check how many rows and columns\n",
        "stocks_df.shape"
      ]
    },
    {
      "cell_type": "code",
      "execution_count": null,
      "metadata": {},
      "outputs": [],
      "source": [
        "# check data counts, types, etc\n",
        "stocks_df.info()"
      ]
    },
    {
      "cell_type": "code",
      "execution_count": null,
      "metadata": {
        "collapsed": true,
        "execution": {
          "iopub.execute_input": "2023-08-15T09:48:47.080Z",
          "iopub.status.busy": "2023-08-15T09:48:47.043Z",
          "iopub.status.idle": "2023-08-15T09:48:47.140Z",
          "shell.execute_reply": "2023-08-15T09:48:50.182Z"
        },
        "jupyter": {
          "outputs_hidden": false,
          "source_hidden": false
        },
        "nteract": {
          "transient": {
            "deleting": false
          }
        }
      },
      "outputs": [],
      "source": [
        "# check to see if there are any missing values\n",
        "stocks_df.isna().sum()"
      ]
    },
    {
      "cell_type": "markdown",
      "metadata": {},
      "source": [
        "**Ex Q1. Examine data**\n",
        "\n",
        "- How many data rows are there for 2021?\n",
        "- Why is it less than 365?</font>"
      ]
    },
    {
      "cell_type": "markdown",
      "metadata": {},
      "source": [
        "Your answer here"
      ]
    },
    {
      "cell_type": "markdown",
      "metadata": {},
      "source": [
        "### Part 2 - accessing row and column data"
      ]
    },
    {
      "cell_type": "code",
      "execution_count": null,
      "metadata": {
        "collapsed": true,
        "execution": {
          "iopub.execute_input": "2023-08-15T09:48:47.494Z",
          "iopub.status.busy": "2023-08-15T09:48:47.468Z",
          "iopub.status.idle": "2023-08-15T09:48:47.544Z",
          "shell.execute_reply": "2023-08-15T09:48:50.234Z"
        },
        "jupyter": {
          "outputs_hidden": false,
          "source_hidden": false
        },
        "nteract": {
          "transient": {
            "deleting": false
          }
        }
      },
      "outputs": [],
      "source": [
        "# what type is the index of the dataframe?\n",
        "stocks_df.index"
      ]
    },
    {
      "cell_type": "markdown",
      "metadata": {},
      "source": [
        "***Select rows using iloc***"
      ]
    },
    {
      "cell_type": "code",
      "execution_count": null,
      "metadata": {
        "execution": {
          "iopub.execute_input": "2023-08-15T09:48:47.621Z",
          "iopub.status.busy": "2023-08-15T09:48:47.593Z",
          "iopub.status.idle": "2023-08-15T09:48:47.683Z",
          "shell.execute_reply": "2023-08-15T09:48:50.248Z"
        }
      },
      "outputs": [],
      "source": [
        "# use iloc to access rows by integer index number\n",
        "# filter for the first 20 days (~1 month)\n",
        "\n",
        "stocks_df.iloc[0:19]"
      ]
    },
    {
      "cell_type": "code",
      "execution_count": null,
      "metadata": {
        "collapsed": true,
        "execution": {
          "iopub.execute_input": "2023-08-15T09:48:47.753Z",
          "iopub.status.busy": "2023-08-15T09:48:47.728Z",
          "iopub.status.idle": "2023-08-15T09:48:47.816Z",
          "shell.execute_reply": "2023-08-15T09:48:50.265Z"
        },
        "jupyter": {
          "outputs_hidden": false,
          "source_hidden": false
        },
        "nteract": {
          "transient": {
            "deleting": false
          }
        }
      },
      "outputs": [],
      "source": [
        "# use .loc to filter rows based on index labels\n",
        "# filter for the first quarter - Q1\n",
        "filter_data = stocks_df.loc['2021-01-01' : '2021-03-31']\n",
        "filter_data"
      ]
    },
    {
      "cell_type": "code",
      "execution_count": null,
      "metadata": {
        "execution": {
          "iopub.execute_input": "2023-08-15T09:48:47.904Z",
          "iopub.status.busy": "2023-08-15T09:48:47.866Z",
          "iopub.status.idle": "2023-08-15T09:48:48.010Z",
          "shell.execute_reply": "2023-08-15T09:48:50.281Z"
        }
      },
      "outputs": [],
      "source": [
        "# access the 5th column by index\n",
        "col1 = stocks_df.iloc[ : , 4]\n",
        "col1\n"
      ]
    },
    {
      "cell_type": "markdown",
      "metadata": {},
      "source": [
        "***Select columns using iloc***"
      ]
    },
    {
      "cell_type": "code",
      "execution_count": null,
      "metadata": {},
      "outputs": [],
      "source": [
        "# for the first three rows, select the 4th and 6th columns of the by index\n",
        "col2 = stocks_df.iloc[ 0:3 , [3,5]]\n",
        "col2"
      ]
    },
    {
      "cell_type": "markdown",
      "metadata": {},
      "source": [
        "***Select rows using loc***"
      ]
    },
    {
      "cell_type": "code",
      "execution_count": null,
      "metadata": {},
      "outputs": [],
      "source": [
        "# access the rows by date range\n",
        "col3 = stocks_df.loc[ '2021-01-29' : '2021-02-02' , ]\n",
        "col3"
      ]
    },
    {
      "cell_type": "code",
      "execution_count": null,
      "metadata": {
        "collapsed": true,
        "execution": {
          "iopub.execute_input": "2023-08-15T09:48:48.150Z",
          "iopub.status.busy": "2023-08-15T09:48:48.118Z",
          "iopub.status.idle": "2023-08-15T09:48:48.219Z",
          "shell.execute_reply": "2023-08-15T09:48:50.294Z"
        },
        "jupyter": {
          "outputs_hidden": false,
          "source_hidden": false
        },
        "nteract": {
          "transient": {
            "deleting": false
          }
        }
      },
      "outputs": [],
      "source": [
        "# access the column by name\n",
        "col4 = stocks_df.loc[:,'Adj Close']\n",
        "col4\n",
        "\n",
        "# can also use single brackets without loc\n",
        "# col4 = stocks_df['Adj Close']\n",
        "# col4"
      ]
    },
    {
      "cell_type": "code",
      "execution_count": null,
      "metadata": {},
      "outputs": [],
      "source": [
        "col5 = stocks_df.loc[:,['Adj Close','Volume']]\n",
        "col5"
      ]
    },
    {
      "cell_type": "markdown",
      "metadata": {},
      "source": [
        "***Select columns using [[]]***"
      ]
    },
    {
      "cell_type": "code",
      "execution_count": null,
      "metadata": {},
      "outputs": [],
      "source": [
        "# access the column by name with double brackets\n",
        "col6 = stocks_df[['Adj Close']]\n",
        "col6"
      ]
    },
    {
      "cell_type": "markdown",
      "metadata": {
        "nteract": {
          "transient": {
            "deleting": false
          }
        }
      },
      "source": [
        "**Ex Q2. Compare return types of extracted columns**\n",
        "\n",
        "- What is the type() of each the six return values of iloc, loc, and [[]]?\n",
        "\n",
        "- Which of them will the code print(colX['Adj Close']) work, and which will not? (fill in X with the  number)"
      ]
    },
    {
      "cell_type": "code",
      "execution_count": null,
      "metadata": {},
      "outputs": [],
      "source": [
        "# your code here"
      ]
    },
    {
      "cell_type": "markdown",
      "metadata": {},
      "source": [
        "Your answer here"
      ]
    },
    {
      "cell_type": "markdown",
      "metadata": {},
      "source": [
        "### Part 3 - manipulating and analysing column data\n"
      ]
    },
    {
      "cell_type": "code",
      "execution_count": null,
      "metadata": {
        "execution": {
          "iopub.execute_input": "2023-08-15T09:48:48.401Z",
          "iopub.status.busy": "2023-08-15T09:48:48.375Z",
          "iopub.status.idle": "2023-08-15T09:48:48.437Z",
          "shell.execute_reply": "2023-08-15T09:48:50.320Z"
        }
      },
      "outputs": [],
      "source": [
        "# create a copy of one column from the dataframe\n",
        "aapl_prices_copy = stocks_df[['Adj Close']].copy() \n",
        "aapl_prices_copy.head()\n",
        "\n",
        "# NOTE: Using copy() to make sure we have created a new dataframe aapl_prices() in memory. \n",
        "# The copy() may not be required always but helps avoid getting a SettingWithCopyWarning when adding/editing values in the DF"
      ]
    },
    {
      "cell_type": "code",
      "execution_count": null,
      "metadata": {
        "execution": {
          "iopub.execute_input": "2023-08-15T09:48:48.613Z",
          "iopub.status.busy": "2023-08-15T09:48:48.585Z",
          "iopub.status.idle": "2023-08-15T09:48:48.664Z",
          "shell.execute_reply": "2023-08-15T09:48:50.345Z"
        }
      },
      "outputs": [],
      "source": [
        "# rename the column\n",
        "aapl_prices_copy.rename(columns= {'Adj Close' : 'AAPL'} , inplace= 'True')\n",
        "aapl_prices_copy.head()"
      ]
    },
    {
      "cell_type": "code",
      "execution_count": null,
      "metadata": {
        "collapsed": true,
        "execution": {
          "iopub.execute_input": "2023-08-15T09:48:48.725Z",
          "iopub.status.busy": "2023-08-15T09:48:48.701Z",
          "iopub.status.idle": "2023-08-15T09:48:48.776Z",
          "shell.execute_reply": "2023-08-15T09:48:50.356Z"
        },
        "jupyter": {
          "outputs_hidden": false,
          "source_hidden": false
        },
        "nteract": {
          "transient": {
            "deleting": false
          }
        }
      },
      "outputs": [],
      "source": [
        "# add a calculated price column to the df\n",
        "\n",
        "aapl_prices_copy['half_price'] = aapl_prices_copy['AAPL']/2\n",
        "aapl_prices_copy.head()\n"
      ]
    },
    {
      "cell_type": "markdown",
      "metadata": {
        "nteract": {
          "transient": {
            "deleting": false
          }
        }
      },
      "source": [
        "**Ex Q3. Change the formula of the calculated column**\n",
        "\n",
        "- Rename the 'half_price' column to be 'quarter_price' and reset the column values to be 1/2 the half_price column values<BR>\n",
        "*Hint: you can directly assign the new column to replace  the existing column*\n",
        "\n",
        "- Copy the column headings and the first two rows of your resulting dataframe to padlet"
      ]
    },
    {
      "cell_type": "code",
      "execution_count": null,
      "metadata": {},
      "outputs": [],
      "source": [
        "# your code here"
      ]
    },
    {
      "cell_type": "code",
      "execution_count": null,
      "metadata": {},
      "outputs": [],
      "source": [
        "# plot the prices\n",
        "# https://pandas.pydata.org/docs/reference/api/pandas.DataFrame.plot.html\n",
        "aapl_prices_copy.plot(figsize=(16,9), title = 'AAPL Stock Price')"
      ]
    },
    {
      "cell_type": "markdown",
      "metadata": {},
      "source": [
        "# DYI"
      ]
    },
    {
      "cell_type": "markdown",
      "metadata": {},
      "source": [
        "**DYI Q1:**\n",
        "\n",
        "From aapl_prices find the average 'adj close' price rounded to two decimal places for AAPL in the last quarter of 2021."
      ]
    },
    {
      "cell_type": "code",
      "execution_count": null,
      "metadata": {},
      "outputs": [],
      "source": [
        "# your code here"
      ]
    },
    {
      "cell_type": "markdown",
      "metadata": {},
      "source": [
        "Your answer"
      ]
    },
    {
      "cell_type": "markdown",
      "metadata": {},
      "source": [
        "**DYI Q2:** \n",
        "\n",
        "Read the 2021 data for 'AAPL' and 'SPY' and compare their adj close prices on the same chart\n",
        "\n",
        "Note : SPY is a fund(ETF) that aims to track the Standard & Poor’s 500 Index, which comprises 500 large-cap U.S. stocks."
      ]
    },
    {
      "cell_type": "code",
      "execution_count": null,
      "metadata": {
        "execution": {
          "iopub.execute_input": "2023-08-15T09:48:49.563Z",
          "iopub.status.busy": "2023-08-15T09:48:49.540Z",
          "iopub.status.idle": "2023-08-15T09:48:49.621Z",
          "shell.execute_reply": "2023-08-15T09:48:50.429Z"
        }
      },
      "outputs": [],
      "source": [
        "# sample code\n",
        "tickers = ['AAPL' , 'SPY']\n",
        "\n",
        "#specify the time period\n",
        "start_date = '2021-01-01'\n",
        "end_date = '2022-01-01'\n",
        "\n",
        "# Use pandas_reader.data.DataReader to load data\n",
        "# stocks_df2 = data.DataReader(tickers, 'yahoo', start_date, end_date)\n",
        "\n",
        "stocks_df2 = yf.download(tickers, start= start_date, end= end_date)"
      ]
    },
    {
      "cell_type": "code",
      "execution_count": null,
      "metadata": {
        "execution": {
          "iopub.execute_input": "2023-08-15T09:48:49.677Z",
          "iopub.status.busy": "2023-08-15T09:48:49.655Z",
          "iopub.status.idle": "2023-08-15T09:48:49.721Z",
          "shell.execute_reply": "2023-08-15T09:48:50.442Z"
        }
      },
      "outputs": [],
      "source": [
        "# sample code\n",
        "stocks_df2.head()"
      ]
    },
    {
      "cell_type": "code",
      "execution_count": null,
      "metadata": {},
      "outputs": [],
      "source": [
        "# your code here"
      ]
    },
    {
      "cell_type": "markdown",
      "metadata": {},
      "source": [
        "**DYI Q3:**\n",
        "\n",
        "In the aapl_prices_copy DF, add a new column called 'daily_returns'\n",
        "\n",
        "- Create a new column that contains the percentage return based on daily price movements.<br>\n",
        "- Use the pct_change() method from pandas. Apply this method to the prices column."
      ]
    },
    {
      "cell_type": "code",
      "execution_count": null,
      "metadata": {},
      "outputs": [],
      "source": [
        "# your code here"
      ]
    },
    {
      "cell_type": "markdown",
      "metadata": {},
      "source": [
        "**DYI Q4:**\n",
        "\n",
        "We were missing 1-3 Jan in the data. Is that a problem with yfinance or is that correct? <BR>\n",
        "Let's find out.\n",
        "\n",
        "Use Generative AI to help you come up with the code to check the day of week associated with each row in the dataframe.<br> \n",
        "Your ouput should look like this:<br>\n",
        "Date<br>\n",
        "2021-12-27       Monday<br>\n",
        "2021-12-28      Tuesday<br>\n",
        "2021-12-29    Wednesday<br>\n",
        "2021-12-30     Thursday<br>\n",
        "2021-12-31       Friday<br>"
      ]
    },
    {
      "cell_type": "code",
      "execution_count": null,
      "metadata": {},
      "outputs": [],
      "source": [
        "# your code here"
      ]
    }
  ],
  "metadata": {
    "kernelspec": {
      "display_name": "Python 3",
      "language": "python",
      "name": "python3"
    },
    "language_info": {
      "codemirror_mode": {
        "name": "ipython",
        "version": 3
      },
      "file_extension": ".py",
      "mimetype": "text/x-python",
      "name": "python",
      "nbconvert_exporter": "python",
      "pygments_lexer": "ipython3",
      "version": "3.9.19"
    },
    "nteract": {
      "version": "0.28.0"
    }
  },
  "nbformat": 4,
  "nbformat_minor": 4
}
